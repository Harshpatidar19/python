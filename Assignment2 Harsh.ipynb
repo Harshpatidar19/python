{
 "cells": [
  {
   "cell_type": "code",
   "execution_count": 27,
   "metadata": {},
   "outputs": [
    {
     "data": {
      "text/plain": [
       "['A', 'C', 'A', 'D', 'G', 'I', 'L', 'D']"
      ]
     },
     "execution_count": 27,
     "metadata": {},
     "output_type": "execute_result"
    }
   ],
   "source": [
    "\"\"\"2.\n",
    "Implement List comprehensions to produce the following lists.\n",
    "Write List comprehensions to produce the following Lists\n",
    "['A', 'C', 'A', 'D', 'G', 'I', ’L’, ‘ D’]\n",
    "['x', 'xx', 'xxx', 'xxxx', 'y', 'yy', 'yyy', 'yyyy', 'z', 'zz', 'zzz', 'zzzz']\n",
    "['x', 'y', 'z', 'xx', 'yy', 'zz', 'xx', 'yy', 'zz', 'xxxx', 'yyyy', 'zzzz']\n",
    "[[2], [3], [4], [3], [4], [5], [4], [5], [6]]\n",
    "[[2, 3, 4, 5], [3, 4, 5, 6], [4, 5, 6, 7], [5, 6, 7, 8]]\n",
    "[(1, 1), (2, 1), (3, 1), (1, 2), (2, 2), (3, 2), (1, 3), (2, 3), (3, 3)]\n",
    "\"\"\"\n",
    "\n",
    "[i for i in \"ACADGILD\"]"
   ]
  },
  {
   "cell_type": "code",
   "execution_count": 151,
   "metadata": {},
   "outputs": [
    {
     "data": {
      "text/plain": [
       "['x', 'y', 'z', 'xx', 'yy', 'zz', 'xx', 'yy', 'zz', 'xxxx', 'yyyy', 'zzzz']"
      ]
     },
     "execution_count": 151,
     "metadata": {},
     "output_type": "execute_result"
    }
   ],
   "source": [
    "[j*i if(i!=3) else j*(i-1) for i in [1,2,3,4] for j in [\"x\",\"y\",\"z\"] ]"
   ]
  },
  {
   "cell_type": "code",
   "execution_count": 152,
   "metadata": {},
   "outputs": [
    {
     "data": {
      "text/plain": [
       "['x', 'xx', 'xxx', 'xxxx', 'y', 'yy', 'yyy', 'yyyy', 'z', 'zz', 'zzz', 'zzzz']"
      ]
     },
     "execution_count": 152,
     "metadata": {},
     "output_type": "execute_result"
    }
   ],
   "source": [
    "[j*i for j in [\"x\",\"y\",\"z\"] for i in [1,2,3,4] ]"
   ]
  },
  {
   "cell_type": "code",
   "execution_count": 159,
   "metadata": {},
   "outputs": [
    {
     "data": {
      "text/plain": [
       "[[2], [3], [4], [3], [4], [5], [4], [5], [6]]"
      ]
     },
     "execution_count": 159,
     "metadata": {},
     "output_type": "execute_result"
    }
   ],
   "source": [
    "[[j+i] for i in range(1,4) for j in range(1,4)]"
   ]
  },
  {
   "cell_type": "code",
   "execution_count": 167,
   "metadata": {},
   "outputs": [
    {
     "data": {
      "text/plain": [
       "[[2, 3, 4, 5], [3, 4, 5, 6], [4, 5, 6, 7], [5, 6, 7, 8]]"
      ]
     },
     "execution_count": 167,
     "metadata": {},
     "output_type": "execute_result"
    }
   ],
   "source": [
    "[[j+i for i in range(1,5)] for j in range(1,5) ]"
   ]
  },
  {
   "cell_type": "code",
   "execution_count": 174,
   "metadata": {},
   "outputs": [
    {
     "data": {
      "text/plain": [
       "[(1, 1), (2, 1), (3, 1), (1, 2), (2, 2), (3, 2), (1, 3), (2, 3), (3, 3)]"
      ]
     },
     "execution_count": 174,
     "metadata": {},
     "output_type": "execute_result"
    }
   ],
   "source": [
    "[(j,i) for i in range(1,4) for j in range(1,4) ]"
   ]
  },
  {
   "cell_type": "code",
   "execution_count": 1,
   "metadata": {},
   "outputs": [
    {
     "name": "stdout",
     "output_type": "stream",
     "text": [
      "Enter number of words in list: 4\n",
      "Enter your word: kkkk\n",
      "Enter your word: ll\n",
      "Enter your word: ddddd\n",
      "Enter your word: pp\n"
     ]
    },
    {
     "data": {
      "text/plain": [
       "['ddddd']"
      ]
     },
     "execution_count": 1,
     "metadata": {},
     "output_type": "execute_result"
    }
   ],
   "source": [
    "# 3. Implement a function longestWord() that takes a list of words and returns the longest one.\n",
    "#function to find Longest word and return \n",
    "def longestWord(l):\n",
    "    temp=[\"\"]\n",
    "    for i in range(0,n):\n",
    "        if len(l[i])>len(temp[0]):\n",
    "            temp[0]=l[i]\n",
    "        elif len(l[i])==len(temp[0]):\n",
    "            temp.append(l[i])\n",
    "    return temp\n",
    "\n",
    "#to take user input for words\n",
    "l=[]\n",
    "n=int(input(\"Enter number of words in list: \"))\n",
    "for i in range(n):\n",
    "    k=input(\"Enter your word: \")\n",
    "    l.append(k)\n",
    "# function call and  print output\n",
    "h=longestWord(l)\n",
    "h"
   ]
  },
  {
   "cell_type": "code",
   "execution_count": 14,
   "metadata": {},
   "outputs": [
    {
     "name": "stdout",
     "output_type": "stream",
     "text": [
      "Enter length of 1st side: 2\n",
      "Enter length of 2nd side: 3\n",
      "Enter length of 3rd side: 4\n",
      "2.9047375096555625\n"
     ]
    }
   ],
   "source": [
    "\"\"\"1.1 Write a Python Program(with class concepts) to find the area of the triangle using the below\n",
    "formula.\n",
    "area = (s*(s-a)*(s-b)*(s-c)) ** 0.5\n",
    "Function to take the length of the sides of triangle from user should be defined in the parent\n",
    "class and function to calculate the area should be defined in subclass.\"\"\"\n",
    "\n",
    "#parent class having method for user inputs\n",
    "\n",
    "class parent:\n",
    "    def u(self):\n",
    "        a=int(input(\"Enter length of 1st side: \"))\n",
    "        b=int(input(\"Enter length of 2nd side: \"))\n",
    "        c=int(input(\"Enter length of 3rd side: \"))\n",
    "        return a,b,c\n",
    "#child class to claculate area\n",
    "\n",
    "class child(ui):\n",
    "    def area(self):\n",
    "        a,b,c=super().u()\n",
    "        s=(a+b+c)/2\n",
    "        area=(s*(s-a)*(s-b)*(s-c))**0.5\n",
    "        print(area)\n",
    "\n",
    "p=child()\n",
    "p.area()"
   ]
  },
  {
   "cell_type": "code",
   "execution_count": 20,
   "metadata": {},
   "outputs": [
    {
     "name": "stdout",
     "output_type": "stream",
     "text": [
      "Enter number of words in list: 5\n",
      "Add word in list: harsh\n",
      "Add word in list: india\n",
      "Add word in list: bang\n",
      "Add word in list: ind\n",
      "Add word in list: d\n",
      "Enter number to filter list: 3\n"
     ]
    },
    {
     "data": {
      "text/plain": [
       "['harsh', 'india', 'bang']"
      ]
     },
     "execution_count": 20,
     "metadata": {},
     "output_type": "execute_result"
    }
   ],
   "source": [
    "\"\"\" 1.2 Write a function filter_long_words() that takes a list of words and an integer n and returns the list\n",
    "of words that are longer than n.\"\"\"\n",
    "def filter_long_word():\n",
    "    list1=[]\n",
    "    number=int(input(\"Enter number of words in list: \"))\n",
    "    for i in range(0,number):\n",
    "        word=input(\"Add word in list: \")\n",
    "        list1.append(word)\n",
    "    n=int(input(\"Enter number to filter list: \"))\n",
    "    list2=[]\n",
    "    for i in range(0,len(list1)):\n",
    "        if len(list1[i])>n:\n",
    "            list2.append(list1[i])\n",
    "    return list2\n",
    "filter_long_word()\n"
   ]
  },
  {
   "cell_type": "code",
   "execution_count": 24,
   "metadata": {},
   "outputs": [
    {
     "name": "stdout",
     "output_type": "stream",
     "text": [
      "enter number of words in list: 5\n",
      "Enter your word: harsh\n",
      "Enter your word: india\n",
      "Enter your word: ban\n",
      "Enter your word: v\n",
      "Enter your word: d\n"
     ]
    },
    {
     "data": {
      "text/plain": [
       "[5, 5, 3, 1, 1]"
      ]
     },
     "execution_count": 24,
     "metadata": {},
     "output_type": "execute_result"
    }
   ],
   "source": [
    "\"\"\"2.1\n",
    "Write a Python program using function concept that maps list of words into a list of integers\n",
    "representing the lengths of the corresponding words .\n",
    "Hint: If a list [ ab,cde,erty] is passed on to the python function output should come as [2,3,4]\n",
    "Here 2,3 and 4 are the lengths of the words in the list.\"\"\"\n",
    "\n",
    "def func():\n",
    "    list1=[]\n",
    "    n=int(input(\"enter number of words in list: \"))\n",
    "    for i in range(0,n):\n",
    "        k=input(\"Enter your word: \")\n",
    "        list1.append(k)\n",
    "    list2=[]\n",
    "    list2=list(map(lambda l:len(l),list1))\n",
    "    return list2\n",
    "func()\n",
    "    "
   ]
  },
  {
   "cell_type": "code",
   "execution_count": 43,
   "metadata": {},
   "outputs": [
    {
     "name": "stdout",
     "output_type": "stream",
     "text": [
      "Enter your alphabet: i\n"
     ]
    },
    {
     "data": {
      "text/plain": [
       "True"
      ]
     },
     "execution_count": 43,
     "metadata": {},
     "output_type": "execute_result"
    }
   ],
   "source": [
    "\"\"\"2.2\n",
    "Write a Python function which takes a character (i.e. a string of length 1) and returns True if it is\n",
    "a vowel, False otherwise.\"\"\"\n",
    "def func():\n",
    "    k=input(\"Enter your alphabet: \")[0]\n",
    "    l=['a','e','i','o','u']\n",
    "    if k in l:\n",
    "        return True\n",
    "    else:\n",
    "        return False\n",
    "func()\n"
   ]
  },
  {
   "cell_type": "code",
   "execution_count": 15,
   "metadata": {},
   "outputs": [
    {
     "name": "stdout",
     "output_type": "stream",
     "text": [
      "15\n"
     ]
    }
   ],
   "source": [
    "\"\"\"1.1\n",
    "Write a Python Program to implement your own myreduce() function which works exactly like\n",
    "Python's built-in function reduce()\"\"\"\n",
    "def myreduce(func,l,i=None):\n",
    "    it=iter(l)\n",
    "    if i==None:\n",
    "        v=next(it)\n",
    "    else:\n",
    "        v=i\n",
    "    for i in it:\n",
    "        v=func(v,i)\n",
    "    return v\n",
    "\n",
    "l=[1,2,3,4,5]\n",
    "import operator\n",
    "o=myreduce(operator.add,l)\n",
    "print(o)"
   ]
  },
  {
   "cell_type": "code",
   "execution_count": 82,
   "metadata": {},
   "outputs": [
    {
     "name": "stdout",
     "output_type": "stream",
     "text": [
      "[2, 4, 6, 8, 0]\n"
     ]
    }
   ],
   "source": [
    "\"\"\"1.2\n",
    "Write a Python program to implement your own myfilter() function which works exactly like\n",
    "Python's built-in function filter()\"\"\"\n",
    "l=[2,3,4,7,6,9,8,5,0]\n",
    "\n",
    "def even(l1): \n",
    "        if l1 % 2==0:\n",
    "            return True\n",
    "\n",
    "def myfilter(func,l):\n",
    "    result=[]\n",
    "    for i in l:\n",
    "        v=func(i)\n",
    "        if(v==True):\n",
    "            result.append(i)\n",
    "    return result\n",
    "\n",
    "                   \n",
    "o=myfilter(even,l)\n",
    "print(o)"
   ]
  },
  {
   "cell_type": "code",
   "execution_count": null,
   "metadata": {},
   "outputs": [],
   "source": []
  }
 ],
 "metadata": {
  "kernelspec": {
   "display_name": "Python 3",
   "language": "python",
   "name": "python3"
  },
  "language_info": {
   "codemirror_mode": {
    "name": "ipython",
    "version": 3
   },
   "file_extension": ".py",
   "mimetype": "text/x-python",
   "name": "python",
   "nbconvert_exporter": "python",
   "pygments_lexer": "ipython3",
   "version": "3.7.6"
  }
 },
 "nbformat": 4,
 "nbformat_minor": 4
}
